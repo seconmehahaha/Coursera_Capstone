{
  "nbformat": 4,
  "nbformat_minor": 0,
  "metadata": {
    "colab": {
      "name": "Capstone- Week 1- Part 1 & 2.ipynb",
      "provenance": [],
      "authorship_tag": "ABX9TyNI4sP+8DEg2zwqnhkkkfVd",
      "include_colab_link": true
    },
    "kernelspec": {
      "name": "python3",
      "display_name": "Python 3"
    }
  },
  "cells": [
    {
      "cell_type": "markdown",
      "metadata": {
        "id": "view-in-github",
        "colab_type": "text"
      },
      "source": [
        "<a href=\"https://colab.research.google.com/github/seconmehahaha/Coursera_Capstone/blob/master/Capstone_Week_1_Part_1_%26_2.ipynb\" target=\"_parent\"><img src=\"https://colab.research.google.com/assets/colab-badge.svg\" alt=\"Open In Colab\"/></a>"
      ]
    },
    {
      "cell_type": "markdown",
      "metadata": {
        "id": "Y7TfUCfhglAI",
        "colab_type": "text"
      },
      "source": [
        "#Battle of Neighborhoods- Week 1\n",
        "\n",
        "##Part 1 - A description of the problem and a discussion of the background.\n",
        "\n",
        "### 1.1 Description of the Problem\n",
        "The famous sin city of Gotham have a population of 19.5 million people as of July 1, 2019 (U.S.A Census Bureau). It's the 4th largest city in the United States with 65.1 million visitors in 2018. New York is the financial capital of U.S.A and one of the most diverse states in the country. Its utterly diverse and host many different type of ethnicity therefore it provides lot of business oppourtunities and have a natural business friendly environment. From ages ago, the city of sin has attracted many different competitors into the market. New York is a global hub of business and commerce. The city is a major center for banking and finance, retailing, world trade, transportation, tourism, real estate, new media, traditional media, advertising, legal services, accountancy, insurance, theater, fashion, and the arts in the United States.\n",
        "\n",
        "This also means that the market is highly competitive. As it is highly developed city so cost of doing business is also one of the highest. Therefore, it is essential to analysis the market and data carefully and throughly. The insights derived from analysis will give good understanding of the business environment which help in strategically targeting the market. This will help in reduction of risk. And the return on Investment will be reasonable.\n",
        "\n",
        "The truth is that as much as there are many fine restaurants in New York – Asian, Middle Eastern, Latin and American restaurants, you can struggle to find an authentic Japanese restaurant that is only speclize in serving sushi.\n",
        "\n",
        "### 1.2 Discussion of the Background\n",
        "My client- Sushi Dai, a successful restaurant chain in Japan is looking to expand operation into the U.S. through New York. They want to create a high-end restaurant that serve fresh raw fishes catched from the pacific ocean. To them every customer counts and everyone is a VIP when you dine at their chain.\n",
        "\n",
        "Since the New York's demography is scattered, my client needs deep insight from available data in other to decide where to establish it's first restaurant.\n",
        "\n",
        "Our company is an expert in data analytics and spends a lot of resources on research and provides customers with data insight.\n",
        "\n",
        "### 1.3 Target Audience\n",
        "My client- Sushi Dai wants to open its business in Manhattan area, so as the Chief Data Officer, I will focus on that borough during my analysis. I will define potential neighborhood based on the number of sushi restaurants which are operating right in each neighborhood. Manhattan has full potential but also is a very challenging district to open a business because of high competition. New sushi restaurant should be open in an area that inadequate neighborhood in this way the restaurant can attract more customers. Therefore, this analysis is necessary to ensure that we have enough customers and that we are not so close to similiar competitors."
      ]
    },
    {
      "cell_type": "markdown",
      "metadata": {
        "id": "Wpjhy4AAhybi",
        "colab_type": "text"
      },
      "source": [
        "## Part 2: Description of data and usage\n",
        "\n",
        "For our project, we will be analysing New York City. And the below dataset will be used to complete our project. \n",
        "\n",
        "Neighborhood has a total of 5 boroughs and 306 neighborhoods. In order to segement the neighborhoods and explore them, we will essentially need a dataset that contains the 5 boroughs and the neighborhoods that exist in each borough as well as the the latitude and logitude coordinates of each neighborhood.\n",
        "\n",
        "This dataset exists for free on the web. Link to the dataset is : https://geo.nyu.edu/catalog/nyu_2451_34572\n",
        "\n",
        "We will use the below link to analyze 1. New York Population, 2. New York City Demographics and 3. Cuisine of New York city\n",
        "\n",
        "https://en.wikipedia.org/wiki/New_York_City\n",
        "https://en.wikipedia.org/wiki/Economy_of_New_York_City\n",
        "https://en.wikipedia.org/wiki/Portal:New_York_City\n",
        "https://en.wikipedia.org/wiki/Cuisine_of_New_York_City\n",
        "https://en.wikipedia.org/wiki/List_of_Michelin_starred_restaurants_in_New_York_City\n",
        "\n",
        "New York City geographical coordinates data will be utilized as input for the Foursquare API, that will be leveraged to provision venues information for each neighborhood.We will use the Foursquare API to explore neighborhoods in New York City. The below is image of the Foursquare API data."
      ]
    }
  ]
}